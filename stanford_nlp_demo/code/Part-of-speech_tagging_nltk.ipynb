{
 "cells": [
  {
   "cell_type": "code",
   "execution_count": 1,
   "metadata": {},
   "outputs": [],
   "source": [
    "import pandas as pd\n",
    "from ast import literal_eval\n",
    "import nltk\n",
    "import wordcloud\n",
    "import inflect"
   ]
  },
  {
   "cell_type": "code",
   "execution_count": 2,
   "metadata": {},
   "outputs": [],
   "source": [
    "df = pd.read_csv(r'F:\\work\\Image_emotion_analysis\\artemis-master\\RAIVS_out\\step1\\artemis_preprocessed.csv')\n",
    "text_list = df['utterance'].tolist()[:10]"
   ]
  },
  {
   "cell_type": "code",
   "execution_count": 10,
   "metadata": {},
   "outputs": [],
   "source": [
    "def get_NNwords(text):\n",
    "    #获取名词\n",
    "    # 分割句子\n",
    "    words = nltk.word_tokenize(text)\n",
    "   \n",
    "    # 词性标注\n",
    "    taged_sent = nltk.pos_tag(words)\n",
    "\n",
    "\n",
    "    #输出名词https://blog.csdn.net/qq_36652619/article/details/77252497\n",
    "    NN = ['NN','NNS','NNP','NNPS']\n",
    "    NN_words = []\n",
    "    for w,l in taged_sent:\n",
    "        if l in NN:\n",
    "            if w in ['look']:\n",
    "                print(text)\n",
    "            NN_words.append(w)\n",
    "    return NN_words \n",
    "NN_words=get_NNwords(text_list[0]) "
   ]
  },
  {
   "cell_type": "code",
   "execution_count": 11,
   "metadata": {},
   "outputs": [
    {
     "name": "stdout",
     "output_type": "stream",
     "text": [
      "This woman has really knotty hands which makes her look like she has arthritis.\n"
     ]
    },
    {
     "data": {
      "text/plain": [
       "['picture',\n",
       " 'smile',\n",
       " 'woman',\n",
       " 'hands',\n",
       " 'look',\n",
       " 'arthritis',\n",
       " 'woman',\n",
       " 'curiosity',\n",
       " 'elbow',\n",
       " 'table',\n",
       " 'face',\n",
       " 'woman',\n",
       " 'ease',\n",
       " 'books',\n",
       " 'content',\n",
       " 'colors',\n",
       " 'scene',\n",
       " 'shapes',\n",
       " 'stroke',\n",
       " 'paint',\n",
       " 'houses',\n",
       " 'painting',\n",
       " 'panels',\n",
       " 'buildings',\n",
       " 'gloves',\n",
       " 'dress',\n",
       " 'stand',\n",
       " 'contrast',\n",
       " 'dark',\n",
       " 'background',\n",
       " 'woman',\n",
       " 'gloves',\n",
       " 'clothes',\n",
       " 'pears']"
      ]
     },
     "execution_count": 11,
     "metadata": {},
     "output_type": "execute_result"
    }
   ],
   "source": [
    "NN_words = []\n",
    "for text in text_list:\n",
    "    NN_words=NN_words+get_NNwords(text)\n",
    "NN_words "
   ]
  }
 ],
 "metadata": {
  "kernelspec": {
   "display_name": "Python 3.6.9 64-bit ('artemis_env_1': conda)",
   "language": "python",
   "name": "python3"
  },
  "language_info": {
   "codemirror_mode": {
    "name": "ipython",
    "version": 3
   },
   "file_extension": ".py",
   "mimetype": "text/x-python",
   "name": "python",
   "nbconvert_exporter": "python",
   "pygments_lexer": "ipython3",
   "version": "3.6.9"
  },
  "orig_nbformat": 4,
  "vscode": {
   "interpreter": {
    "hash": "03591697f24511c6f09dd0796522b0630e3a776f3674a03662de1335a317f0eb"
   }
  }
 },
 "nbformat": 4,
 "nbformat_minor": 2
}
