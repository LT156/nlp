{
 "cells": [
  {
   "cell_type": "code",
   "execution_count": 2,
   "metadata": {},
   "outputs": [
    {
     "name": "stderr",
     "output_type": "stream",
     "text": [
      "c:\\software\\Tools\\Anaconda3\\envs\\artemis_env_1\\lib\\site-packages\\ipykernel_launcher.py:7: DeprecationWarning: The StanfordParser will be deprecated\n",
      "Please use \u001b[91mnltk.parse.corenlp.CoreNLPParser\u001b[0m instead.\n",
      "  import sys\n"
     ]
    },
    {
     "name": "stdout",
     "output_type": "stream",
     "text": [
      "cmd: ['edu.stanford.nlp.parser.lexparser.LexicalizedParser', '-model', 'edu/stanford/nlp/models/lexparser/englishPCFG.ser.gz', '-sentences', 'newline', '-outputFormat', 'penn', '-tokenized', '-escaper', 'edu.stanford.nlp.process.PTBEscapingProcessor']\n",
      "(ROOT\n",
      "  (S\n",
      "    (NP (DT This) (NN woman))\n",
      "    (VP\n",
      "      (VBZ has)\n",
      "      (ADVP (RB really))\n",
      "      (NP\n",
      "        (NP (JJ knotty) (NNS hands))\n",
      "        (SBAR\n",
      "          (WHNP (WDT which))\n",
      "          (S\n",
      "            (VP\n",
      "              (VBZ makes)\n",
      "              (SBAR\n",
      "                (S\n",
      "                  (NP (PRP her))\n",
      "                  (VP\n",
      "                    (VBP look)\n",
      "                    (SBAR\n",
      "                      (IN like)\n",
      "                      (S\n",
      "                        (NP (PRP she))\n",
      "                        (VP (VBZ has) (VP (VBN arthritis.)))))))))))))))\n"
     ]
    }
   ],
   "source": [
    "#斯坦福句子解析，名词标注\n",
    "from nltk.parse.stanford import StanfordParser\n",
    "\n",
    "my_path_to_models_jar = \"F:/work/style_emotion/stanford_nlp_demo/sources/stanford-corenlp-full-2018-02-27/stanford-corenlp-3.9.1-models.jar\"\n",
    "my_path_to_jar = \"F:/work/style_emotion/stanford_nlp_demo/sources/stanford-parser-full-2018-02-27/stanford-parser-3.9.1-models.jar\"\n",
    "\n",
    "parser = StanfordParser(path_to_models_jar=my_path_to_models_jar, path_to_jar=my_path_to_jar)\n",
    "(result, )=parser.parse(\"This woman has really knotty hands which makes her look like she has arthritis.\".split())\n",
    "print(str(result).replace('/t/n',' '))\n"
   ]
  },
  {
   "cell_type": "code",
   "execution_count": 3,
   "metadata": {},
   "outputs": [
    {
     "data": {
      "text/plain": [
       "nltk.tree.tree.Tree"
      ]
     },
     "execution_count": 3,
     "metadata": {},
     "output_type": "execute_result"
    }
   ],
   "source": [
    "type(result)"
   ]
  },
  {
   "cell_type": "code",
   "execution_count": 4,
   "metadata": {},
   "outputs": [
    {
     "name": "stdout",
     "output_type": "stream",
     "text": [
      "          ROOT                                                                                  \n",
      "           |                                                                                     \n",
      "           S                                                                                    \n",
      "       ____|_________                                                                            \n",
      "      |              VP                                                                         \n",
      "      |          ____|_________________                                                          \n",
      "      |         |    |                 NP                                                       \n",
      "      |         |    |             ____|___________                                              \n",
      "      |         |    |            |               SBAR                                          \n",
      "      |         |    |            |           _____|____                                         \n",
      "      |         |    |            |          |          S                                       \n",
      "      |         |    |            |          |          |                                        \n",
      "      |         |    |            |          |          VP                                      \n",
      "      |         |    |            |          |      ____|________                                \n",
      "      |         |    |            |          |     |            SBAR                            \n",
      "      |         |    |            |          |     |             |                               \n",
      "      |         |    |            |          |     |             S                              \n",
      "      |         |    |            |          |     |     ________|____                           \n",
      "      |         |    |            |          |     |    |             VP                        \n",
      "      |         |    |            |          |     |    |    _________|___                       \n",
      "      |         |    |            |          |     |    |   |            SBAR                   \n",
      "      |         |    |            |          |     |    |   |     ________|____                  \n",
      "      |         |    |            |          |     |    |   |    |             S                \n",
      "      |         |    |            |          |     |    |   |    |     ________|___              \n",
      "      |         |    |            |          |     |    |   |    |    |            VP           \n",
      "      |         |    |            |          |     |    |   |    |    |         ___|______       \n",
      "      NP        |   ADVP          NP        WHNP   |    NP  |    |    NP       |          VP    \n",
      "  ____|____     |    |       _____|____      |     |    |   |    |    |        |          |      \n",
      " DT        NN  VBZ   RB     JJ        NNS   WDT   VBZ  PRP VBP   IN  PRP      VBZ        VBN    \n",
      " |         |    |    |      |          |     |     |    |   |    |    |        |          |      \n",
      "This     woman has really knotty     hands which makes her look like she      has     arthritis.\n",
      "\n"
     ]
    }
   ],
   "source": [
    "result.pretty_print() "
   ]
  },
  {
   "cell_type": "code",
   "execution_count": 5,
   "metadata": {},
   "outputs": [],
   "source": [
    "import nltk\n",
    "\n",
    "tree_nltk = nltk.Tree.fromstring('(S (NP (D the) (N dog)) (VP (V chased) (NP (D the) (N cat))))')\n",
    "\n",
    "NN_words=[]\n",
    "def traverse_tree(tree):\n",
    "    \"\"\"\n",
    "    深度遍历nltk.tree\n",
    "    :param tree: nltk.tree对象\n",
    "    :return: 无\n",
    "    \"\"\"\n",
    "    for subtree in tree:\n",
    "        if type(subtree) == nltk.tree.Tree:\n",
    "            traverse_tree(subtree)\n",
    "            if str(subtree)[1:-1].find('(')==-1:\n",
    "                result = str(subtree)[1:-1].split(' ')\n",
    "                if result[0] in ['NN','NR','NT','NNS','NNP','NNPS']:\n",
    "                    NN_words.append(result[1])"
   ]
  },
  {
   "cell_type": "code",
   "execution_count": 6,
   "metadata": {},
   "outputs": [],
   "source": [
    "from stanfordcorenlp import StanfordCoreNLP\n",
    "#指明安装路径和语言类型(中文)\n",
    "nlp = StanfordCoreNLP(r'F:\\work\\style_emotion\\stanford_nlp_demo\\sources\\stanford-corenlp-full-2018-02-27', lang='en')"
   ]
  },
  {
   "cell_type": "code",
   "execution_count": 7,
   "metadata": {},
   "outputs": [
    {
     "data": {
      "text/plain": [
       "['She seems very happy in the picture, and you want to know what what is behind the smile.',\n",
       " 'This woman has really knotty hands which makes her look like she has arthritis.',\n",
       " 'When looking at this woman, I am filled with curiosity about what she is thinking about with her elbow on the table and a very emotionless face.']"
      ]
     },
     "execution_count": 7,
     "metadata": {},
     "output_type": "execute_result"
    }
   ],
   "source": [
    "\n",
    "import pandas as pd\n",
    "from ast import literal_eval\n",
    "df = pd.read_csv(r\"F:/dataset/Image/ArtEmis/artemis_official_data/official_data/artemis_dataset_release_v0.csv\")\n",
    "text_list = df['utterance'].tolist()[:3]\n",
    "text_list"
   ]
  },
  {
   "cell_type": "code",
   "execution_count": 15,
   "metadata": {},
   "outputs": [
    {
     "name": "stdout",
     "output_type": "stream",
     "text": [
      "When looking at this woman I am filled with curiosity about what she is thinking about with her elbow on the table.\n"
     ]
    }
   ],
   "source": [
    "from text_clean import artemis_text_clean"
   ]
  },
  {
   "cell_type": "code",
   "execution_count": 16,
   "metadata": {},
   "outputs": [
    {
     "name": "stdout",
     "output_type": "stream",
     "text": [
      "cmd: ['edu.stanford.nlp.parser.lexparser.LexicalizedParser', '-model', 'edu/stanford/nlp/models/lexparser/englishPCFG.ser.gz', '-sentences', 'newline', '-outputFormat', 'penn', '-tokenized', '-escaper', 'edu.stanford.nlp.process.PTBEscapingProcessor']\n",
      "cmd: ['edu.stanford.nlp.parser.lexparser.LexicalizedParser', '-model', 'edu/stanford/nlp/models/lexparser/englishPCFG.ser.gz', '-sentences', 'newline', '-outputFormat', 'penn', '-tokenized', '-escaper', 'edu.stanford.nlp.process.PTBEscapingProcessor']\n",
      "cmd: ['edu.stanford.nlp.parser.lexparser.LexicalizedParser', '-model', 'edu/stanford/nlp/models/lexparser/englishPCFG.ser.gz', '-sentences', 'newline', '-outputFormat', 'penn', '-tokenized', '-escaper', 'edu.stanford.nlp.process.PTBEscapingProcessor']\n"
     ]
    }
   ],
   "source": [
    "NN_words = []\n",
    "for sent in text_list:\n",
    "    (result, )=parser.parse(nlp.word_tokenize(artemis_text_clean(sent)))\n",
    "    traverse_tree(result)"
   ]
  },
  {
   "cell_type": "code",
   "execution_count": 17,
   "metadata": {},
   "outputs": [
    {
     "data": {
      "text/plain": [
       "['picture',\n",
       " 'smile',\n",
       " 'woman',\n",
       " 'hands',\n",
       " 'arthritis',\n",
       " 'woman',\n",
       " 'curiosity',\n",
       " 'elbow',\n",
       " 'table',\n",
       " 'face']"
      ]
     },
     "execution_count": 17,
     "metadata": {},
     "output_type": "execute_result"
    }
   ],
   "source": [
    "NN_words"
   ]
  }
 ],
 "metadata": {
  "kernelspec": {
   "display_name": "Python 3.6.9 64-bit ('artemis_env_1': conda)",
   "language": "python",
   "name": "python3"
  },
  "language_info": {
   "codemirror_mode": {
    "name": "ipython",
    "version": 3
   },
   "file_extension": ".py",
   "mimetype": "text/x-python",
   "name": "python",
   "nbconvert_exporter": "python",
   "pygments_lexer": "ipython3",
   "version": "3.6.9"
  },
  "orig_nbformat": 4,
  "vscode": {
   "interpreter": {
    "hash": "03591697f24511c6f09dd0796522b0630e3a776f3674a03662de1335a317f0eb"
   }
  }
 },
 "nbformat": 4,
 "nbformat_minor": 2
}
