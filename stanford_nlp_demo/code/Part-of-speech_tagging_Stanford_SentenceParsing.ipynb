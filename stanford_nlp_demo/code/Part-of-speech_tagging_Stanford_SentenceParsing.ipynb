{
 "cells": [
  {
   "cell_type": "code",
   "execution_count": 17,
   "metadata": {},
   "outputs": [
    {
     "name": "stderr",
     "output_type": "stream",
     "text": [
      "c:\\software\\Tools\\Anaconda3\\envs\\artemis_env_1\\lib\\site-packages\\ipykernel_launcher.py:6: DeprecationWarning: The StanfordParser will be deprecated\n",
      "Please use \u001b[91mnltk.parse.corenlp.CoreNLPParser\u001b[0m instead.\n",
      "  \n"
     ]
    },
    {
     "name": "stdout",
     "output_type": "stream",
     "text": [
      "cmd: ['edu.stanford.nlp.parser.lexparser.LexicalizedParser', '-model', 'edu/stanford/nlp/models/lexparser/englishPCFG.ser.gz', '-sentences', 'newline', '-outputFormat', 'penn', '-tokenized', '-escaper', 'edu.stanford.nlp.process.PTBEscapingProcessor']\n",
      "(ROOT\n",
      "  (SBAR\n",
      "    (IN While)\n",
      "    (S\n",
      "      (NP (DT the) (NN woman))\n",
      "      (VP\n",
      "        (VBZ does)\n",
      "        (RB not)\n",
      "        (VP\n",
      "          (VB look)\n",
      "          (ADJP\n",
      "            (RB particularly)\n",
      "            (JJ sad,)\n",
      "            (SBAR\n",
      "              (S\n",
      "                (NP (PRP she))\n",
      "                (VP\n",
      "                  (VBZ does)\n",
      "                  (RB not)\n",
      "                  (VP\n",
      "                    (VB look)\n",
      "                    (NP\n",
      "                      (ADJP (RB particularly) (JJ happy))\n",
      "                      (NNP either.)\n",
      "                      (NNPS It's))\n",
      "                    (PP (IN like) (NP (DT a) (NN testament)))\n",
      "                    (PP\n",
      "                      (TO to)\n",
      "                      (NP\n",
      "                        (NP (DT the) (NN monotony))\n",
      "                        (PP (IN of) (NP (JJ everyday) (NN life.)))))))))))))))\n"
     ]
    }
   ],
   "source": [
    "#斯坦福句子解析，名词标注\n",
    "from nltk.parse.stanford import StanfordParser\n",
    "demo_path='F:/github_code/nlp/stanford_nlp_demo'\n",
    "my_path_to_models_jar = demo_path+'/sources/lib/stanford-corenlp-full-2018-02-27/stanford-corenlp-3.9.1-models.jar'\n",
    "my_path_to_jar = demo_path+'/sources/lib/stanford-parser-full-2018-02-27/stanford-parser-3.9.1-models.jar'\n",
    "parser = StanfordParser(path_to_models_jar=my_path_to_models_jar, path_to_jar=my_path_to_jar)\n",
    "\n",
    "(result, )=parser.parse(\"While the woman does not look particularly sad, she does not look particularly happy either. It's like a testament to the monotony of everyday life.\".split())\n",
    "print(str(result).replace('/t/n',' '))\n"
   ]
  },
  {
   "cell_type": "code",
   "execution_count": 18,
   "metadata": {},
   "outputs": [
    {
     "name": "stdout",
     "output_type": "stream",
     "text": [
      "      ROOT                                                                                                                                                                     \n",
      "       |                                                                                                                                                                        \n",
      "      SBAR                                                                                                                                                                     \n",
      "   ____|_________                                                                                                                                                               \n",
      "  |              S                                                                                                                                                             \n",
      "  |          ____|_________                                                                                                                                                     \n",
      "  |         |              VP                                                                                                                                                  \n",
      "  |         |          ____|____________                                                                                                                                        \n",
      "  |         |         |    |            VP                                                                                                                                     \n",
      "  |         |         |    |    ________|_____________                                                                                                                          \n",
      "  |         |         |    |   |                     ADJP                                                                                                                      \n",
      "  |         |         |    |   |         _____________|______________________                                                                                                   \n",
      "  |         |         |    |   |        |        |                          SBAR                                                                                               \n",
      "  |         |         |    |   |        |        |                           |                                                                                                  \n",
      "  |         |         |    |   |        |        |                           S                                                                                                 \n",
      "  |         |         |    |   |        |        |     ______________________|________________________________                                                                  \n",
      "  |         |         |    |   |        |        |    |                                                       VP                                                               \n",
      "  |         |         |    |   |        |        |    |     __________________________________________________|____                                                             \n",
      "  |         |         |    |   |        |        |    |    |    |                                                  VP                                                          \n",
      "  |         |         |    |   |        |        |    |    |    |    ______________________________________________|_______________________________                             \n",
      "  |         |         |    |   |        |        |    |    |    |   |                       |                      |                               PP                          \n",
      "  |         |         |    |   |        |        |    |    |    |   |                       |                      |                  _____________|______                      \n",
      "  |         |         |    |   |        |        |    |    |    |   |                       |                      |                 |                    NP                   \n",
      "  |         |         |    |   |        |        |    |    |    |   |                       |                      |                 |        ____________|_____                \n",
      "  |         |         |    |   |        |        |    |    |    |   |                       NP                     PP                |       |                  PP             \n",
      "  |         |         |    |   |        |        |    |    |    |   |                  _____|____________      ____|___              |       |             _____|______         \n",
      "  |         NP        |    |   |        |        |    NP   |    |   |                ADJP          |     |    |        NP            |       NP           |            NP      \n",
      "  |     ____|____     |    |   |        |        |    |    |    |   |         ________|_____       |     |    |     ___|______       |    ___|_____       |      ______|____    \n",
      "  IN   DT        NN  VBZ   RB  VB       RB       JJ  PRP  VBZ   RB  VB       RB             JJ    NNP   NNPS  IN   DT         NN     TO  DT        NN     IN    JJ          NN \n",
      "  |    |         |    |    |   |        |        |    |    |    |   |        |              |      |     |    |    |          |      |   |         |      |     |           |   \n",
      "While the      woman does not look particularly sad, she  does not look particularly      happy either. It's like  a      testament  to the     monotony  of everyday     life.\n",
      "\n"
     ]
    }
   ],
   "source": [
    "result.pretty_print() "
   ]
  },
  {
   "cell_type": "code",
   "execution_count": 5,
   "metadata": {},
   "outputs": [],
   "source": [
    "import nltk\n",
    "\n",
    "tree_nltk = nltk.Tree.fromstring('(S (NP (D the) (N dog)) (VP (V chased) (NP (D the) (N cat))))')\n",
    "\n",
    "NN_words=[]\n",
    "def traverse_tree(tree):\n",
    "    \"\"\"\n",
    "    深度遍历nltk.tree\n",
    "    :param tree: nltk.tree对象\n",
    "    :return: 无\n",
    "    \"\"\"\n",
    "    for subtree in tree:\n",
    "        if type(subtree) == nltk.tree.Tree:\n",
    "            traverse_tree(subtree)\n",
    "            if str(subtree)[1:-1].find('(')==-1:\n",
    "                result = str(subtree)[1:-1].split(' ')\n",
    "                if result[0] in ['NN','NR','NT','NNS','NNP','NNPS']:\n",
    "                    NN_words.append(result[1])"
   ]
  },
  {
   "cell_type": "code",
   "execution_count": 6,
   "metadata": {},
   "outputs": [],
   "source": [
    "from stanfordcorenlp import StanfordCoreNLP\n",
    "#指明安装路径和语言类型(中文)\n",
    "nlp = StanfordCoreNLP(r'F:\\work\\style_emotion\\stanford_nlp_demo\\sources\\stanford-corenlp-full-2018-02-27', lang='en')"
   ]
  },
  {
   "cell_type": "code",
   "execution_count": 7,
   "metadata": {},
   "outputs": [
    {
     "data": {
      "text/plain": [
       "['She seems very happy in the picture, and you want to know what what is behind the smile.',\n",
       " 'This woman has really knotty hands which makes her look like she has arthritis.',\n",
       " 'When looking at this woman, I am filled with curiosity about what she is thinking about with her elbow on the table and a very emotionless face.']"
      ]
     },
     "execution_count": 7,
     "metadata": {},
     "output_type": "execute_result"
    }
   ],
   "source": [
    "\n",
    "import pandas as pd\n",
    "from ast import literal_eval\n",
    "df = pd.read_csv(r\"F:/dataset/Image/ArtEmis/artemis_official_data/official_data/artemis_dataset_release_v0.csv\")\n",
    "text_list = df['utterance'].tolist()[:3]\n",
    "text_list"
   ]
  },
  {
   "cell_type": "code",
   "execution_count": 15,
   "metadata": {},
   "outputs": [
    {
     "name": "stdout",
     "output_type": "stream",
     "text": [
      "When looking at this woman I am filled with curiosity about what she is thinking about with her elbow on the table.\n"
     ]
    }
   ],
   "source": [
    "from text_clean import artemis_text_clean"
   ]
  },
  {
   "cell_type": "code",
   "execution_count": 16,
   "metadata": {},
   "outputs": [
    {
     "name": "stdout",
     "output_type": "stream",
     "text": [
      "cmd: ['edu.stanford.nlp.parser.lexparser.LexicalizedParser', '-model', 'edu/stanford/nlp/models/lexparser/englishPCFG.ser.gz', '-sentences', 'newline', '-outputFormat', 'penn', '-tokenized', '-escaper', 'edu.stanford.nlp.process.PTBEscapingProcessor']\n",
      "cmd: ['edu.stanford.nlp.parser.lexparser.LexicalizedParser', '-model', 'edu/stanford/nlp/models/lexparser/englishPCFG.ser.gz', '-sentences', 'newline', '-outputFormat', 'penn', '-tokenized', '-escaper', 'edu.stanford.nlp.process.PTBEscapingProcessor']\n",
      "cmd: ['edu.stanford.nlp.parser.lexparser.LexicalizedParser', '-model', 'edu/stanford/nlp/models/lexparser/englishPCFG.ser.gz', '-sentences', 'newline', '-outputFormat', 'penn', '-tokenized', '-escaper', 'edu.stanford.nlp.process.PTBEscapingProcessor']\n"
     ]
    }
   ],
   "source": [
    "NN_words = []\n",
    "for sent in text_list:\n",
    "    (result, )=parser.parse(nlp.word_tokenize(artemis_text_clean(sent)))\n",
    "    traverse_tree(result)"
   ]
  },
  {
   "cell_type": "code",
   "execution_count": 17,
   "metadata": {},
   "outputs": [
    {
     "data": {
      "text/plain": [
       "['picture',\n",
       " 'smile',\n",
       " 'woman',\n",
       " 'hands',\n",
       " 'arthritis',\n",
       " 'woman',\n",
       " 'curiosity',\n",
       " 'elbow',\n",
       " 'table',\n",
       " 'face']"
      ]
     },
     "execution_count": 17,
     "metadata": {},
     "output_type": "execute_result"
    }
   ],
   "source": [
    "NN_words"
   ]
  }
 ],
 "metadata": {
  "kernelspec": {
   "display_name": "Python 3.6.9 64-bit ('artemis_env_1': conda)",
   "language": "python",
   "name": "python3"
  },
  "language_info": {
   "codemirror_mode": {
    "name": "ipython",
    "version": 3
   },
   "file_extension": ".py",
   "mimetype": "text/x-python",
   "name": "python",
   "nbconvert_exporter": "python",
   "pygments_lexer": "ipython3",
   "version": "3.6.9"
  },
  "orig_nbformat": 4,
  "vscode": {
   "interpreter": {
    "hash": "03591697f24511c6f09dd0796522b0630e3a776f3674a03662de1335a317f0eb"
   }
  }
 },
 "nbformat": 4,
 "nbformat_minor": 2
}
