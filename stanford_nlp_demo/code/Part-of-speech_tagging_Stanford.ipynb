{
 "cells": [
  {
   "cell_type": "markdown",
   "metadata": {},
   "source": [
    "https://www.likecs.com/show-308211222.html#sc=440\n",
    "#使用nlp的斯坦福工具，进行英文的词性标注工作"
   ]
  },
  {
   "cell_type": "code",
   "execution_count": 2,
   "metadata": {},
   "outputs": [
    {
     "name": "stdout",
     "output_type": "stream",
     "text": [
      "[('I', 'PRP'), ('a', 'DT'), ('m', 'NN'), ('L', 'NN'), ('i', 'FW'), ('l', 'NN'), ('y', 'NN')]\n"
     ]
    }
   ],
   "source": [
    "import sys\n",
    "\n",
    "import os\n",
    "\n",
    "os.environ['STANFORD_MODELS']=\"F:/work/style_emotion/stanford_nlp_demo/sources/stanford-postagger-2017-06-09/models\"\n",
    "from nltk.tag.stanford import StanfordPOSTagger\n",
    "#pip uninstall stanford -i https://pypi.tuna.tsinghua.edu.cn/simple \n",
    "#https://www.shuzhiduo.com/A/x9J2elyWz6/\n",
    "\n",
    "root = \"F:/work/style_emotion/stanford_nlp_demo/sources/stanford-corenlp-full-2018-02-27/stanford-postagger.jar\"\n",
    "\n",
    "modelpath = 'F:/work/style_emotion/stanford_nlp_demo/sources/stanford-postagger-2017-06-09/models/english-bidirectional-distsim.tagger'\n",
    "\n",
    "st = StanfordPOSTagger(path_to_jar=root,model_filename=modelpath)\n",
    "\n",
    "seg_sent = 'I am Lily'\n",
    "\n",
    "taglist = st.tag(seg_sent)\n",
    "\n",
    "print(taglist)\n",
    "\n"
   ]
  },
  {
   "cell_type": "code",
   "execution_count": 3,
   "metadata": {},
   "outputs": [
    {
     "data": {
      "text/plain": [
       "[('I', 'PRP'), ('am', 'VBP'), ('sad', 'JJ')]"
      ]
     },
     "execution_count": 3,
     "metadata": {},
     "output_type": "execute_result"
    }
   ],
   "source": [
    "taglist = st.tag(['I','am','sad'])\n",
    "taglist"
   ]
  },
  {
   "cell_type": "code",
   "execution_count": 4,
   "metadata": {},
   "outputs": [
    {
     "name": "stdout",
     "output_type": "stream",
     "text": [
      "['I', 'am', 'sad']\n",
      "[('I', 'PRP'), ('am', 'VBP'), ('sad', 'JJ')]\n",
      "(ROOT\n",
      "  (S\n",
      "    (NP (PRP I))\n",
      "    (VP (VBP am)\n",
      "      (ADJP (JJ sad)))))\n",
      "[('I', 'O'), ('am', 'O'), ('sad', 'O')]\n",
      "[('ROOT', 0, 3), ('nsubj', 3, 1), ('cop', 3, 2)]\n"
     ]
    }
   ],
   "source": [
    "from stanfordcorenlp import StanfordCoreNLP\n",
    "#指明安装路径和语言类型(中文)\n",
    "nlp = StanfordCoreNLP(r'F:\\work\\style_emotion\\stanford_nlp_demo\\sources\\stanford-corenlp-full-2018-02-27', lang='en')\n",
    "#这里的文件位置就是我们刚才下载的核心包位置\n",
    "sentence = \"I am sad\"\n",
    "#进行分词的语句\n",
    "print(nlp.word_tokenize(sentence))\n",
    "print(nlp.pos_tag(sentence))\n",
    "print(nlp.parse(sentence))\n",
    "print(nlp.ner(sentence))\n",
    "print(nlp.dependency_parse(sentence))\n",
    "# nlp.close()\n"
   ]
  },
  {
   "cell_type": "code",
   "execution_count": 5,
   "metadata": {},
   "outputs": [
    {
     "data": {
      "text/plain": [
       "[('I', 'PRP'), ('am', 'VBP'), ('Lily', 'NNP')]"
      ]
     },
     "execution_count": 5,
     "metadata": {},
     "output_type": "execute_result"
    }
   ],
   "source": [
    "st.tag(nlp.word_tokenize(seg_sent))"
   ]
  },
  {
   "cell_type": "code",
   "execution_count": 6,
   "metadata": {},
   "outputs": [
    {
     "data": {
      "text/plain": [
       "['She seems very happy in the picture, and you want to know what what is behind the smile.',\n",
       " 'This woman has really knotty hands which makes her look like she has arthritis.',\n",
       " 'When looking at this woman, I am filled with curiosity about what she is thinking about with her elbow on the table and a very emotionless face.',\n",
       " 'A woman looking at ease, peaceful, and satisfied amongst her books makes me feel content.',\n",
       " 'The bright colors make a very unique scene for the interesting shapes.',\n",
       " 'the stroke of blue paint used to outline the houses in the painting',\n",
       " 'Some of the wooden panels are falling from the buildings',\n",
       " 'The golden gloves and white dress stand out and is a good contrast to the dark background!',\n",
       " \"The woman is wearing dish-washing gloves even though she's dressed in fancy clothes\",\n",
       " 'The pears are just about ripe to eat and enjoy']"
      ]
     },
     "execution_count": 6,
     "metadata": {},
     "output_type": "execute_result"
    }
   ],
   "source": [
    "import pandas as pd\n",
    "from ast import literal_eval\n",
    "df = pd.read_csv(r'F:\\work\\Image_emotion_analysis\\artemis-master\\RAIVS_out\\step1\\artemis_preprocessed.csv')\n",
    "text_list = df['utterance'].tolist()[:10]\n",
    "text_list"
   ]
  },
  {
   "cell_type": "code",
   "execution_count": 7,
   "metadata": {},
   "outputs": [
    {
     "name": "stdout",
     "output_type": "stream",
     "text": [
      "This woman has really knotty hands which makes her look like she has arthritis.\n"
     ]
    },
    {
     "data": {
      "text/plain": [
       "['picture',\n",
       " 'smile',\n",
       " 'woman',\n",
       " 'hands',\n",
       " 'look',\n",
       " 'arthritis',\n",
       " 'woman',\n",
       " 'curiosity',\n",
       " 'elbow',\n",
       " 'table',\n",
       " 'face',\n",
       " 'woman',\n",
       " 'ease',\n",
       " 'books',\n",
       " 'content',\n",
       " 'colors',\n",
       " 'scene',\n",
       " 'shapes',\n",
       " 'stroke',\n",
       " 'paint',\n",
       " 'houses',\n",
       " 'painting',\n",
       " 'panels',\n",
       " 'buildings',\n",
       " 'gloves',\n",
       " 'dress',\n",
       " 'contrast',\n",
       " 'background',\n",
       " 'woman',\n",
       " 'gloves',\n",
       " 'clothes',\n",
       " 'pears']"
      ]
     },
     "execution_count": 7,
     "metadata": {},
     "output_type": "execute_result"
    }
   ],
   "source": [
    "#将句子中的名词提取出来\n",
    "NN_words = []\n",
    "for sent in text_list:\n",
    "    pos_tag = st.tag(nlp.word_tokenize(sent))\n",
    "    for word, label in pos_tag:\n",
    "        if label in ['NN','NR','NT','NNS','NNP','NNPS']:\n",
    "            if word in ['look']:\n",
    "                print(sent)\n",
    "            NN_words.append(word)\n",
    "NN_words"
   ]
  },
  {
   "cell_type": "code",
   "execution_count": 8,
   "metadata": {},
   "outputs": [
    {
     "data": {
      "text/plain": [
       "[('This', 'DT'),\n",
       " ('woman', 'NN'),\n",
       " ('has', 'VBZ'),\n",
       " ('really', 'RB'),\n",
       " ('knotty', 'JJ'),\n",
       " ('hands', 'NNS'),\n",
       " ('which', 'WDT'),\n",
       " ('makes', 'VBZ'),\n",
       " ('her', 'PRP$'),\n",
       " ('look', 'NN'),\n",
       " ('like', 'IN'),\n",
       " ('she', 'PRP'),\n",
       " ('has', 'VBZ'),\n",
       " ('arthritis', 'NN'),\n",
       " ('.', '.')]"
      ]
     },
     "execution_count": 8,
     "metadata": {},
     "output_type": "execute_result"
    }
   ],
   "source": [
    "pos_tag = st.tag(nlp.word_tokenize('This woman has really knotty hands which makes her look like she has arthritis.'))\n",
    "pos_tag\n",
    "#句子中的make her look like XX, 把其中的look看作NN了"
   ]
  }
 ],
 "metadata": {
  "kernelspec": {
   "display_name": "Python 3.6.9 64-bit ('artemis_env_1': conda)",
   "language": "python",
   "name": "python3"
  },
  "language_info": {
   "codemirror_mode": {
    "name": "ipython",
    "version": 3
   },
   "file_extension": ".py",
   "mimetype": "text/x-python",
   "name": "python",
   "nbconvert_exporter": "python",
   "pygments_lexer": "ipython3",
   "version": "3.6.9"
  },
  "orig_nbformat": 4,
  "vscode": {
   "interpreter": {
    "hash": "03591697f24511c6f09dd0796522b0630e3a776f3674a03662de1335a317f0eb"
   }
  }
 },
 "nbformat": 4,
 "nbformat_minor": 2
}
